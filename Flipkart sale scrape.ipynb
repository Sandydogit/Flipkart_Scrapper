{
 "cells": [
  {
   "cell_type": "code",
   "execution_count": 1,
   "id": "82608194-f2ed-4359-850d-3d01ba686faa",
   "metadata": {},
   "outputs": [],
   "source": [
    "#Importing libraries \n",
    "\n",
    "from bs4 import BeautifulSoup\n",
    "import requests\n",
    "import pandas as pd"
   ]
  },
  {
   "cell_type": "code",
   "execution_count": 2,
   "id": "fa56ac4d-0d3d-40dc-b68c-c3ff36ddcc71",
   "metadata": {},
   "outputs": [
    {
     "data": {
      "text/plain": [
       "<Response [200]>"
      ]
     },
     "execution_count": 2,
     "metadata": {},
     "output_type": "execute_result"
    }
   ],
   "source": [
    "#URL of Flipkart Mobile Phone Offers page\n",
    "\n",
    "url = (\"https://www.flipkart.com/mobiles/pr?sid=tyy%2C4io&param=16781&p%5B%5D=facets.availability%255B%255D%3DExclude%2BOut%2Bof%2BStock&ctx=eyJjYXJkQ29udGV4dCI6eyJhdHRyaWJ1dGVzIjp7InRpdGxlIjp7Im11bHRpVmFsdWVkQXR0cmlidXRlIjp7ImtleSI6InRpdGxlIiwiaW5mZXJlbmNlVHlwZSI6IlRJVExFIiwidmFsdWVzIjpbIk1vYmlsZXMiXSwidmFsdWVUeXBlIjoiTVVMVElfVkFMVUVEIn19fX19&wid=5.productCard.PMU_V2_4&page=\")\n",
    "\n",
    "# Send GET request\n",
    "response = requests.get(url)\n",
    "\n",
    "response\n"
   ]
  },
  {
   "cell_type": "code",
   "execution_count": 3,
   "id": "d93f5ec8-6f60-4c0a-a8b4-4af87b60d7d2",
   "metadata": {},
   "outputs": [
    {
     "name": "stdin",
     "output_type": "stream",
     "text": [
      "Enter page number : 7\n"
     ]
    }
   ],
   "source": [
    "#Lists to store data\n",
    "\n",
    "Phone_name = []\n",
    "Phone_offerprice = []\n",
    "Phone_originalprice = []\n",
    "Phone_link = []\n",
    "\n",
    "# Extract data \n",
    "\n",
    "page_num = input(\"Enter page number :\")\n",
    "for i in range(1, int(page_num) + 1):\n",
    "    url = (\"https://www.flipkart.com/mobiles/pr?sid=tyy%2C4io&param=16781&p%5B%5D=facets.availability%255B%255D%3DExclude%2BOut%2Bof%2BStock&ctx=eyJjYXJkQ29udGV4dCI6eyJhdHRyaWJ1dGVzIjp7InRpdGxlIjp7Im11bHRpVmFsdWVkQXR0cmlidXRlIjp7ImtleSI6InRpdGxlIiwiaW5mZXJlbmNlVHlwZSI6IlRJVExFIiwidmFsdWVzIjpbIk1vYmlsZXMiXSwidmFsdWVUeXBlIjoiTVVMVElfVkFMVUVEIn19fX19&wid=5.productCard.PMU_V2_4&page=\"+str(i))\n",
    "    response = requests.get(url)\n",
    "    data = BeautifulSoup(response.content, \"html.parser\")\n",
    "\n",
    "    # Update these class names by inspecting Flipkart's page\n",
    "    name = data.find_all('div', {\"class\": \"KzDlHZ\"})\n",
    "    offer_price = data.find_all('div', {\"class\": \"Nx9bqj _4b5DiR\"})\n",
    "    original_price = data.find_all('div', {\"class\": \"yRaY8j ZYYwLA\"})  # Update if needed\n",
    "    Mobile_link = data.find_all('div', {\"class\": \"tUxRFH\"})\n",
    "    start_link = \"https://www.flipkart.com\"\n",
    "\n",
    "    # Append extracted data to lists \n",
    "    for items in Mobile_link:\n",
    "        rest_link = items.find('a')['href']\n",
    "        Phone_link.append(start_link + rest_link)  \n",
    "    for i in name:\n",
    "        Phone_name.append(i.text)\n",
    "    for i in offer_price:\n",
    "        Phone_offerprice.append(i.text)\n",
    "    for i in original_price:  # Ensure original prices are extracted properly\n",
    "        Phone_originalprice.append(i.text)\n",
    "\n",
    "# Ensure equal list lengths by adding \"N/A\" where data is missing\n",
    "while len(Phone_originalprice) < len(Phone_name):\n",
    "    Phone_originalprice.append(\"N/A\")\n",
    "\n",
    "        "
   ]
  },
  {
   "cell_type": "code",
   "execution_count": 4,
   "id": "a5a60292-85cf-4fbf-a024-68926677af8f",
   "metadata": {},
   "outputs": [
    {
     "name": "stdout",
     "output_type": "stream",
     "text": [
      "                                     Mobile Phone Name Offer Price  \\\n",
      "0    SAMSUNG Galaxy S25 Ultra 5G (Titanium Whitesil...   ₹1,29,999   \n",
      "1              SAMSUNG Galaxy S25 5G (Icyblue, 256 GB)     ₹80,999   \n",
      "2                      POCO C75 5G (Aqua Bliss, 64 GB)      ₹7,999   \n",
      "3                   MOTOROLA g05 (Forest Green, 64 GB)      ₹6,999   \n",
      "4    Motorola Edge 50 Fusion (Marshmallow Blue, 128...     ₹22,999   \n",
      "..                                                 ...         ...   \n",
      "163                 vivo T3 Ultra (Lunar Gray, 128 GB)     ₹29,999   \n",
      "164                     Apple iPhone 15 (Pink, 256 GB)     ₹69,999   \n",
      "165            realme P2 Pro 5G (Parrot Green, 128 GB)     ₹19,999   \n",
      "166              realme P2 Pro 5G (Eagle Grey, 256 GB)     ₹21,999   \n",
      "167                vivo T3 Ultra (Frost Green, 128 GB)     ₹29,999   \n",
      "\n",
      "    Original Price                                  Mobile Phone Link  \n",
      "0        ₹1,41,999  https://www.flipkart.com/samsung-galaxy-s25-ul...  \n",
      "1          ₹10,999  https://www.flipkart.com/samsung-galaxy-s25-5g...  \n",
      "2           ₹9,999  https://www.flipkart.com/poco-c75-5g-aqua-blis...  \n",
      "3          ₹25,999  https://www.flipkart.com/motorola-g05-forest-g...  \n",
      "4          ₹20,999  https://www.flipkart.com/motorola-edge-50-fusi...  \n",
      "..             ...                                                ...  \n",
      "163            N/A  https://www.flipkart.com/vivo-t3-ultra-lunar-g...  \n",
      "164            N/A  https://www.flipkart.com/apple-iphone-15-pink-...  \n",
      "165            N/A  https://www.flipkart.com/realme-p2-pro-5g-parr...  \n",
      "166            N/A  https://www.flipkart.com/realme-p2-pro-5g-eagl...  \n",
      "167            N/A  https://www.flipkart.com/vivo-t3-ultra-frost-g...  \n",
      "\n",
      "[168 rows x 4 columns]\n"
     ]
    }
   ],
   "source": [
    "# Create a DataFrame\n",
    "\n",
    "df = {\n",
    "    \"Mobile Phone Name\": list(Phone_name),\n",
    "    \"Offer Price\": list(Phone_offerprice),\n",
    "    \"Original Price\": list(Phone_originalprice),\n",
    "    \"Mobile Phone Link\": list(Phone_link)\n",
    "}\n",
    "\n",
    "final_dataframe = pd.DataFrame(df)\n",
    "print(final_dataframe)\n"
   ]
  },
  {
   "cell_type": "code",
   "execution_count": 5,
   "id": "64d43caf-fd31-4859-91f5-460aef0dc998",
   "metadata": {},
   "outputs": [
    {
     "name": "stdout",
     "output_type": "stream",
     "text": [
      "Data successfully saved to Flipkart sale.csv\n"
     ]
    }
   ],
   "source": [
    "# Save to CSV file\n",
    "\n",
    "final_dataframe.to_csv('Flipkart sale.csv',index = False)\n",
    "print(\"Data successfully saved to Flipkart sale.csv\")"
   ]
  },
  {
   "cell_type": "code",
   "execution_count": null,
   "id": "35bcd407-87d8-46e2-9083-c6d1ffadb7c6",
   "metadata": {},
   "outputs": [],
   "source": []
  }
 ],
 "metadata": {
  "kernelspec": {
   "display_name": "Python 3 (ipykernel)",
   "language": "python",
   "name": "python3"
  },
  "language_info": {
   "codemirror_mode": {
    "name": "ipython",
    "version": 3
   },
   "file_extension": ".py",
   "mimetype": "text/x-python",
   "name": "python",
   "nbconvert_exporter": "python",
   "pygments_lexer": "ipython3",
   "version": "3.12.7"
  }
 },
 "nbformat": 4,
 "nbformat_minor": 5
}
